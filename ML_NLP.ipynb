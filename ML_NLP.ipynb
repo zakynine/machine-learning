{
  "nbformat": 4,
  "nbformat_minor": 0,
  "metadata": {
    "colab": {
      "name": "submission-NLP",
      "provenance": [],
      "authorship_tag": "ABX9TyO8fnjSzA6kXmoCeB9VqWOs",
      "include_colab_link": true
    },
    "kernelspec": {
      "name": "python3",
      "display_name": "Python 3"
    },
    "language_info": {
      "name": "python"
    },
    "accelerator": "GPU"
  },
  "cells": [
    {
      "cell_type": "markdown",
      "metadata": {
        "id": "view-in-github",
        "colab_type": "text"
      },
      "source": [
        "<a href=\"https://colab.research.google.com/github/zakynine/machine-learning/blob/main/ML_NLP.ipynb\" target=\"_parent\"><img src=\"https://colab.research.google.com/assets/colab-badge.svg\" alt=\"Open In Colab\"/></a>"
      ]
    },
    {
      "cell_type": "markdown",
      "metadata": {
        "id": "pYIUH0DxlfWZ"
      },
      "source": [
        "Muhamad Zaki Anbari\n",
        "\n",
        "zakynineth@gmail.com\n",
        "\n",
        "This Machine Learning created to find right news category based on news title"
      ]
    },
    {
      "cell_type": "code",
      "metadata": {
        "id": "pZbMQQMhlN1q"
      },
      "source": [
        "#deklarasi library yang diperlukan\n",
        "import pandas as pd\n",
        "from google.colab import drive\n",
        "from sklearn.model_selection import train_test_split\n",
        "from tensorflow.keras.preprocessing.text import Tokenizer\n",
        "from tensorflow.keras.preprocessing.sequence import pad_sequences\n",
        "import tensorflow as tf\n",
        "import matplotlib.pyplot as plt"
      ],
      "execution_count": null,
      "outputs": []
    },
    {
      "cell_type": "code",
      "metadata": {
        "colab": {
          "base_uri": "https://localhost:8080/",
          "height": 224
        },
        "id": "5sT-lH_6s9vS",
        "outputId": "bb9d13fe-593b-4b32-febe-5c3f2206e060"
      },
      "source": [
        "#mount drive untuk load dataset\n",
        "drive.mount('/content/drive')\n",
        "\n",
        "#load dataset\n",
        "dataset_path = '/content/drive/MyDrive/Colab Notebooks/indonesian-news-title.csv'\n",
        "df = pd.read_csv(dataset_path)\n",
        "\n",
        "#cek jumlah sample\n",
        "df.tail()"
      ],
      "execution_count": null,
      "outputs": [
        {
          "output_type": "stream",
          "text": [
            "Mounted at /content/drive\n"
          ],
          "name": "stdout"
        },
        {
          "output_type": "execute_result",
          "data": {
            "text/html": [
              "<div>\n",
              "<style scoped>\n",
              "    .dataframe tbody tr th:only-of-type {\n",
              "        vertical-align: middle;\n",
              "    }\n",
              "\n",
              "    .dataframe tbody tr th {\n",
              "        vertical-align: top;\n",
              "    }\n",
              "\n",
              "    .dataframe thead th {\n",
              "        text-align: right;\n",
              "    }\n",
              "</style>\n",
              "<table border=\"1\" class=\"dataframe\">\n",
              "  <thead>\n",
              "    <tr style=\"text-align: right;\">\n",
              "      <th></th>\n",
              "      <th>date</th>\n",
              "      <th>url</th>\n",
              "      <th>title</th>\n",
              "      <th>category</th>\n",
              "    </tr>\n",
              "  </thead>\n",
              "  <tbody>\n",
              "    <tr>\n",
              "      <th>91012</th>\n",
              "      <td>02/03/2020</td>\n",
              "      <td>https://travel.detik.com/travel-news/d-4882807...</td>\n",
              "      <td>Ketumpahan Air Panas di Pesawat, Kamu Bisa Tun...</td>\n",
              "      <td>travel</td>\n",
              "    </tr>\n",
              "    <tr>\n",
              "      <th>91013</th>\n",
              "      <td>02/03/2020</td>\n",
              "      <td>https://travel.detik.com/fototravel/d-4882796/...</td>\n",
              "      <td>Foto: Bali &amp; 9 Destinasi Paling Instagramable ...</td>\n",
              "      <td>travel</td>\n",
              "    </tr>\n",
              "    <tr>\n",
              "      <th>91014</th>\n",
              "      <td>02/03/2020</td>\n",
              "      <td>https://travel.detik.com/travel-news/d-4882794...</td>\n",
              "      <td>Game Bikin Turis Ini Liburan ke Jepang untuk.....</td>\n",
              "      <td>travel</td>\n",
              "    </tr>\n",
              "    <tr>\n",
              "      <th>91015</th>\n",
              "      <td>02/03/2020</td>\n",
              "      <td>https://travel.detik.com/travel-news/d-4882792...</td>\n",
              "      <td>Sekeluarga Didepak dari Pesawat, Maskapai Bila...</td>\n",
              "      <td>travel</td>\n",
              "    </tr>\n",
              "    <tr>\n",
              "      <th>91016</th>\n",
              "      <td>02/03/2020</td>\n",
              "      <td>https://travel.detik.com/travel-news/d-4882791...</td>\n",
              "      <td>Kapal Raib di Segitiga Bermuda, Nyaris Seabad ...</td>\n",
              "      <td>travel</td>\n",
              "    </tr>\n",
              "  </tbody>\n",
              "</table>\n",
              "</div>"
            ],
            "text/plain": [
              "             date  ... category\n",
              "91012  02/03/2020  ...   travel\n",
              "91013  02/03/2020  ...   travel\n",
              "91014  02/03/2020  ...   travel\n",
              "91015  02/03/2020  ...   travel\n",
              "91016  02/03/2020  ...   travel\n",
              "\n",
              "[5 rows x 4 columns]"
            ]
          },
          "metadata": {
            "tags": []
          },
          "execution_count": 2
        }
      ]
    },
    {
      "cell_type": "code",
      "metadata": {
        "colab": {
          "base_uri": "https://localhost:8080/",
          "height": 207
        },
        "id": "VAH6R4z2qhyl",
        "outputId": "5a29633f-eee2-4ff8-c4de-72531e2df01d"
      },
      "source": [
        "df = df.drop(columns=['date', 'url'])\n",
        "df.head()"
      ],
      "execution_count": null,
      "outputs": [
        {
          "output_type": "execute_result",
          "data": {
            "text/html": [
              "<div>\n",
              "<style scoped>\n",
              "    .dataframe tbody tr th:only-of-type {\n",
              "        vertical-align: middle;\n",
              "    }\n",
              "\n",
              "    .dataframe tbody tr th {\n",
              "        vertical-align: top;\n",
              "    }\n",
              "\n",
              "    .dataframe thead th {\n",
              "        text-align: right;\n",
              "    }\n",
              "</style>\n",
              "<table border=\"1\" class=\"dataframe\">\n",
              "  <thead>\n",
              "    <tr style=\"text-align: right;\">\n",
              "      <th></th>\n",
              "      <th>title</th>\n",
              "      <th>category</th>\n",
              "    </tr>\n",
              "  </thead>\n",
              "  <tbody>\n",
              "    <tr>\n",
              "      <th>0</th>\n",
              "      <td>Kemnaker Awasi TKA di Meikarta</td>\n",
              "      <td>finance</td>\n",
              "    </tr>\n",
              "    <tr>\n",
              "      <th>1</th>\n",
              "      <td>BNI Digitalkan BNI Java Jazz 2020</td>\n",
              "      <td>finance</td>\n",
              "    </tr>\n",
              "    <tr>\n",
              "      <th>2</th>\n",
              "      <td>Terbang ke Australia, Edhy Prabowo Mau Genjot ...</td>\n",
              "      <td>finance</td>\n",
              "    </tr>\n",
              "    <tr>\n",
              "      <th>3</th>\n",
              "      <td>OJK Siapkan Stimulus Ekonomi Antisipasi Dampak...</td>\n",
              "      <td>finance</td>\n",
              "    </tr>\n",
              "    <tr>\n",
              "      <th>4</th>\n",
              "      <td>Saran Buat Anies-RK yang Mangkir Rapat Banjir ...</td>\n",
              "      <td>finance</td>\n",
              "    </tr>\n",
              "  </tbody>\n",
              "</table>\n",
              "</div>"
            ],
            "text/plain": [
              "                                               title category\n",
              "0                     Kemnaker Awasi TKA di Meikarta  finance\n",
              "1                  BNI Digitalkan BNI Java Jazz 2020  finance\n",
              "2  Terbang ke Australia, Edhy Prabowo Mau Genjot ...  finance\n",
              "3  OJK Siapkan Stimulus Ekonomi Antisipasi Dampak...  finance\n",
              "4  Saran Buat Anies-RK yang Mangkir Rapat Banjir ...  finance"
            ]
          },
          "metadata": {
            "tags": []
          },
          "execution_count": 3
        }
      ]
    },
    {
      "cell_type": "code",
      "metadata": {
        "colab": {
          "base_uri": "https://localhost:8080/",
          "height": 424
        },
        "id": "aJtqJDI3y6Aa",
        "outputId": "8f7813f9-bc34-4f97-a158-a93ae2d52763"
      },
      "source": [
        "category = pd.get_dummies(df.category)\n",
        "df_new = pd.concat([df, category], axis =1)\n",
        "df_new = df_new.drop(columns='category')\n",
        "df_new"
      ],
      "execution_count": null,
      "outputs": [
        {
          "output_type": "execute_result",
          "data": {
            "text/html": [
              "<div>\n",
              "<style scoped>\n",
              "    .dataframe tbody tr th:only-of-type {\n",
              "        vertical-align: middle;\n",
              "    }\n",
              "\n",
              "    .dataframe tbody tr th {\n",
              "        vertical-align: top;\n",
              "    }\n",
              "\n",
              "    .dataframe thead th {\n",
              "        text-align: right;\n",
              "    }\n",
              "</style>\n",
              "<table border=\"1\" class=\"dataframe\">\n",
              "  <thead>\n",
              "    <tr style=\"text-align: right;\">\n",
              "      <th></th>\n",
              "      <th>title</th>\n",
              "      <th>finance</th>\n",
              "      <th>food</th>\n",
              "      <th>health</th>\n",
              "      <th>hot</th>\n",
              "      <th>inet</th>\n",
              "      <th>news</th>\n",
              "      <th>oto</th>\n",
              "      <th>sport</th>\n",
              "      <th>travel</th>\n",
              "    </tr>\n",
              "  </thead>\n",
              "  <tbody>\n",
              "    <tr>\n",
              "      <th>0</th>\n",
              "      <td>Kemnaker Awasi TKA di Meikarta</td>\n",
              "      <td>1</td>\n",
              "      <td>0</td>\n",
              "      <td>0</td>\n",
              "      <td>0</td>\n",
              "      <td>0</td>\n",
              "      <td>0</td>\n",
              "      <td>0</td>\n",
              "      <td>0</td>\n",
              "      <td>0</td>\n",
              "    </tr>\n",
              "    <tr>\n",
              "      <th>1</th>\n",
              "      <td>BNI Digitalkan BNI Java Jazz 2020</td>\n",
              "      <td>1</td>\n",
              "      <td>0</td>\n",
              "      <td>0</td>\n",
              "      <td>0</td>\n",
              "      <td>0</td>\n",
              "      <td>0</td>\n",
              "      <td>0</td>\n",
              "      <td>0</td>\n",
              "      <td>0</td>\n",
              "    </tr>\n",
              "    <tr>\n",
              "      <th>2</th>\n",
              "      <td>Terbang ke Australia, Edhy Prabowo Mau Genjot ...</td>\n",
              "      <td>1</td>\n",
              "      <td>0</td>\n",
              "      <td>0</td>\n",
              "      <td>0</td>\n",
              "      <td>0</td>\n",
              "      <td>0</td>\n",
              "      <td>0</td>\n",
              "      <td>0</td>\n",
              "      <td>0</td>\n",
              "    </tr>\n",
              "    <tr>\n",
              "      <th>3</th>\n",
              "      <td>OJK Siapkan Stimulus Ekonomi Antisipasi Dampak...</td>\n",
              "      <td>1</td>\n",
              "      <td>0</td>\n",
              "      <td>0</td>\n",
              "      <td>0</td>\n",
              "      <td>0</td>\n",
              "      <td>0</td>\n",
              "      <td>0</td>\n",
              "      <td>0</td>\n",
              "      <td>0</td>\n",
              "    </tr>\n",
              "    <tr>\n",
              "      <th>4</th>\n",
              "      <td>Saran Buat Anies-RK yang Mangkir Rapat Banjir ...</td>\n",
              "      <td>1</td>\n",
              "      <td>0</td>\n",
              "      <td>0</td>\n",
              "      <td>0</td>\n",
              "      <td>0</td>\n",
              "      <td>0</td>\n",
              "      <td>0</td>\n",
              "      <td>0</td>\n",
              "      <td>0</td>\n",
              "    </tr>\n",
              "    <tr>\n",
              "      <th>...</th>\n",
              "      <td>...</td>\n",
              "      <td>...</td>\n",
              "      <td>...</td>\n",
              "      <td>...</td>\n",
              "      <td>...</td>\n",
              "      <td>...</td>\n",
              "      <td>...</td>\n",
              "      <td>...</td>\n",
              "      <td>...</td>\n",
              "      <td>...</td>\n",
              "    </tr>\n",
              "    <tr>\n",
              "      <th>91012</th>\n",
              "      <td>Ketumpahan Air Panas di Pesawat, Kamu Bisa Tun...</td>\n",
              "      <td>0</td>\n",
              "      <td>0</td>\n",
              "      <td>0</td>\n",
              "      <td>0</td>\n",
              "      <td>0</td>\n",
              "      <td>0</td>\n",
              "      <td>0</td>\n",
              "      <td>0</td>\n",
              "      <td>1</td>\n",
              "    </tr>\n",
              "    <tr>\n",
              "      <th>91013</th>\n",
              "      <td>Foto: Bali &amp; 9 Destinasi Paling Instagramable ...</td>\n",
              "      <td>0</td>\n",
              "      <td>0</td>\n",
              "      <td>0</td>\n",
              "      <td>0</td>\n",
              "      <td>0</td>\n",
              "      <td>0</td>\n",
              "      <td>0</td>\n",
              "      <td>0</td>\n",
              "      <td>1</td>\n",
              "    </tr>\n",
              "    <tr>\n",
              "      <th>91014</th>\n",
              "      <td>Game Bikin Turis Ini Liburan ke Jepang untuk.....</td>\n",
              "      <td>0</td>\n",
              "      <td>0</td>\n",
              "      <td>0</td>\n",
              "      <td>0</td>\n",
              "      <td>0</td>\n",
              "      <td>0</td>\n",
              "      <td>0</td>\n",
              "      <td>0</td>\n",
              "      <td>1</td>\n",
              "    </tr>\n",
              "    <tr>\n",
              "      <th>91015</th>\n",
              "      <td>Sekeluarga Didepak dari Pesawat, Maskapai Bila...</td>\n",
              "      <td>0</td>\n",
              "      <td>0</td>\n",
              "      <td>0</td>\n",
              "      <td>0</td>\n",
              "      <td>0</td>\n",
              "      <td>0</td>\n",
              "      <td>0</td>\n",
              "      <td>0</td>\n",
              "      <td>1</td>\n",
              "    </tr>\n",
              "    <tr>\n",
              "      <th>91016</th>\n",
              "      <td>Kapal Raib di Segitiga Bermuda, Nyaris Seabad ...</td>\n",
              "      <td>0</td>\n",
              "      <td>0</td>\n",
              "      <td>0</td>\n",
              "      <td>0</td>\n",
              "      <td>0</td>\n",
              "      <td>0</td>\n",
              "      <td>0</td>\n",
              "      <td>0</td>\n",
              "      <td>1</td>\n",
              "    </tr>\n",
              "  </tbody>\n",
              "</table>\n",
              "<p>91017 rows × 10 columns</p>\n",
              "</div>"
            ],
            "text/plain": [
              "                                                   title  ...  travel\n",
              "0                         Kemnaker Awasi TKA di Meikarta  ...       0\n",
              "1                      BNI Digitalkan BNI Java Jazz 2020  ...       0\n",
              "2      Terbang ke Australia, Edhy Prabowo Mau Genjot ...  ...       0\n",
              "3      OJK Siapkan Stimulus Ekonomi Antisipasi Dampak...  ...       0\n",
              "4      Saran Buat Anies-RK yang Mangkir Rapat Banjir ...  ...       0\n",
              "...                                                  ...  ...     ...\n",
              "91012  Ketumpahan Air Panas di Pesawat, Kamu Bisa Tun...  ...       1\n",
              "91013  Foto: Bali & 9 Destinasi Paling Instagramable ...  ...       1\n",
              "91014  Game Bikin Turis Ini Liburan ke Jepang untuk.....  ...       1\n",
              "91015  Sekeluarga Didepak dari Pesawat, Maskapai Bila...  ...       1\n",
              "91016  Kapal Raib di Segitiga Bermuda, Nyaris Seabad ...  ...       1\n",
              "\n",
              "[91017 rows x 10 columns]"
            ]
          },
          "metadata": {
            "tags": []
          },
          "execution_count": 4
        }
      ]
    },
    {
      "cell_type": "code",
      "metadata": {
        "id": "H8ShLqhs0M5B"
      },
      "source": [
        "judul_berita = df_new['title'].values\n",
        "label = df_new[['finance', 'food', 'health', 'hot', 'inet', 'news', 'oto', 'sport', 'travel']]"
      ],
      "execution_count": null,
      "outputs": []
    },
    {
      "cell_type": "code",
      "metadata": {
        "id": "EZGG7ZJX0txA"
      },
      "source": [
        "#split dataset\n",
        "judul_berita_train, judul_berita_test, label_train, label_test = train_test_split(judul_berita, label, test_size=0.2)"
      ],
      "execution_count": null,
      "outputs": []
    },
    {
      "cell_type": "code",
      "metadata": {
        "id": "YMIifelz1LQI"
      },
      "source": [
        "#tokenisasi data\n",
        "tokenizer = Tokenizer(num_words=10000, oov_token='x')\n",
        "tokenizer.fit_on_texts(judul_berita_train)\n",
        "tokenizer.fit_on_texts(judul_berita_test)\n",
        "\n",
        "sekuens_train = tokenizer.texts_to_sequences(judul_berita_train)\n",
        "sekuens_test = tokenizer.texts_to_sequences(judul_berita_test)\n",
        "\n",
        "padded_train = pad_sequences(sekuens_train)\n",
        "padded_test = pad_sequences(sekuens_test)"
      ],
      "execution_count": null,
      "outputs": []
    },
    {
      "cell_type": "code",
      "metadata": {
        "id": "XwLAUn6yIIZp"
      },
      "source": [
        " # menggunakan callbacks untuk atasi overfitting\n",
        "\n",
        "class myCallback(tf.keras.callbacks.Callback):\n",
        "  def on_epoch_end(self, epoch, logs={}):\n",
        "    if(logs.get('accuracy')>0.8):\n",
        "       print(\"\\n Akurasi > 80%, stop training!!!\")\n",
        "       self.model.stop_training=True\n",
        "\n",
        "callbacks = myCallback()"
      ],
      "execution_count": null,
      "outputs": []
    },
    {
      "cell_type": "code",
      "metadata": {
        "colab": {
          "base_uri": "https://localhost:8080/"
        },
        "id": "h7ivAv9CYYIe",
        "outputId": "f823421d-c597-4a32-df4c-152247d983f1"
      },
      "source": [
        "#menggunakan sekuensial, lstm, dan embedding\n",
        "model = tf.keras.Sequential([\n",
        "    tf.keras.layers.Embedding(input_dim=10000, output_dim=32),\n",
        "    tf.keras.layers.LSTM(64),\n",
        "    tf.keras.layers.Dense(128, activation='relu'),\n",
        "    tf.keras.layers.Dense(64, activation='relu'),\n",
        "    tf.keras.layers.Dense(9, activation='softmax')                                                  \n",
        "])\n",
        "model.compile(loss='categorical_crossentropy',\n",
        "              optimizer='adam',\n",
        "              metrics=['accuracy'])\n",
        "history = model.fit(padded_train,\n",
        "                    label_train,\n",
        "                    epochs=30,\n",
        "                    validation_data=(padded_test, label_test),\n",
        "                    verbose=2,\n",
        "                    callbacks=[callbacks]\n",
        "                    )"
      ],
      "execution_count": null,
      "outputs": [
        {
          "output_type": "stream",
          "text": [
            "Epoch 1/30\n",
            "2276/2276 - 32s - loss: 0.8438 - accuracy: 0.7181 - val_loss: 0.5627 - val_accuracy: 0.8132\n",
            "Epoch 2/30\n",
            "2276/2276 - 24s - loss: 0.4432 - accuracy: 0.8572 - val_loss: 0.4641 - val_accuracy: 0.8519\n",
            "\n",
            " Akurasi > 80%, stop training!!!\n"
          ],
          "name": "stdout"
        }
      ]
    },
    {
      "cell_type": "code",
      "metadata": {
        "colab": {
          "base_uri": "https://localhost:8080/",
          "height": 295
        },
        "id": "JLqM_zT4I50h",
        "outputId": "2e28b02f-ddf2-4dc6-987b-5de6dd572ec2"
      },
      "source": [
        "#plotting akurasi model NLP\n",
        "plt.plot(history.history['accuracy'])\n",
        "plt.plot(history.history['val_accuracy'])\n",
        "plt.title('Akurasi Model NLP')\n",
        "plt.ylabel('accuracy')\n",
        "plt.xlabel('epoch')\n",
        "plt.legend(['train', 'test'], loc='upper left')\n",
        "plt.show()"
      ],
      "execution_count": null,
      "outputs": [
        {
          "output_type": "display_data",
          "data": {
            "image/png": "[encoded data removed]",
            "text/plain": [
              "<Figure size 432x288 with 1 Axes>"
            ]
          },
          "metadata": {
            "tags": [],
            "needs_background": "light"
          }
        }
      ]
    },
    {
      "cell_type": "code",
      "metadata": {
        "colab": {
          "base_uri": "https://localhost:8080/",
          "height": 295
        },
        "id": "ddFUBdvGJDuy",
        "outputId": "d76a9648-a3be-45e5-f9ad-c4ba7903e9f1"
      },
      "source": [
        "#plotting loss model NLP\n",
        "plt.plot(history.history['loss'])\n",
        "plt.plot(history.history['val_loss'])\n",
        "plt.title('Loss Model NLP')\n",
        "plt.ylabel('loss')\n",
        "plt.xlabel('epoch')\n",
        "plt.legend(['train', 'test'], loc='upper left')\n",
        "plt.show()"
      ],
      "execution_count": null,
      "outputs": [
        {
          "output_type": "display_data",
          "data": {
            "image/png": "[encoded data removed]",
            "text/plain": [
              "<Figure size 432x288 with 1 Axes>"
            ]
          },
          "metadata": {
            "tags": [],
            "needs_background": "light"
          }
        }
      ]
    }
  ]
}