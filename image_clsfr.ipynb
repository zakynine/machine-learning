{
  "nbformat": 4,
  "nbformat_minor": 0,
  "metadata": {
    "accelerator": "GPU",
    "colab": {
      "name": "image-clsfr-2.ipynb",
      "provenance": [],
      "collapsed_sections": [],
      "authorship_tag": "ABX9TyMoM/jEaMsP8itQc0vd7vQB",
      "include_colab_link": true
    },
    "kernelspec": {
      "display_name": "Python 3",
      "name": "python3"
    },
    "language_info": {
      "name": "python"
    }
  },
  "cells": [
    {
      "cell_type": "markdown",
      "metadata": {
        "id": "view-in-github",
        "colab_type": "text"
      },
      "source": [
        "<a href=\"https://colab.research.google.com/github/zakynine/ml-img-clsfr/blob/main/image_clsfr.ipynb\" target=\"_parent\"><img src=\"https://colab.research.google.com/assets/colab-badge.svg\" alt=\"Open In Colab\"/></a>"
      ]
    },
    {
      "cell_type": "code",
      "metadata": {
        "id": "a2Lc0c6R_zO6"
      },
      "source": [
        "# Deklarasi library yang diperlukan\n",
        "\n",
        "from google.colab import drive\n",
        "import tensorflow as tf\n",
        "from tensorflow.keras.optimizers import RMSprop\n",
        "from tensorflow.keras.preprocessing.image import ImageDataGenerator\n",
        "import zipfile,os,shutil\n",
        "import sklearn\n",
        "from sklearn.model_selection import train_test_split\n",
        "import numpy as np\n",
        "from google.colab import files\n",
        "from keras.preprocessing import image\n",
        "import matplotlib.pyplot as plt\n",
        "import matplotlib.image as mpimg"
      ],
      "execution_count": null,
      "outputs": []
    },
    {
      "cell_type": "code",
      "metadata": {
        "id": "VbCzu_Bw0Qe4",
        "colab": {
          "base_uri": "https://localhost:8080/"
        },
        "outputId": "5adf308b-8dce-4796-ab84-d4c4b1267c8d"
      },
      "source": [
        "#mount drive untuk load dataset\n",
        "drive.mount('/content/drive')"
      ],
      "execution_count": null,
      "outputs": [
        {
          "output_type": "stream",
          "text": [
            "Drive already mounted at /content/drive; to attempt to forcibly remount, call drive.mount(\"/content/drive\", force_remount=True).\n"
          ],
          "name": "stdout"
        }
      ]
    },
    {
      "cell_type": "code",
      "metadata": {
        "id": "5J8oExBrAWFR"
      },
      "source": [
        "# Melakukan ekstraksi dataset zip\n",
        "food_11_path = '/content/drive/MyDrive/Colab Notebooks/datasets/food-11/food_11_dataset.zip'\n",
        "zip_dataset = zipfile.ZipFile(food_11_path, 'r')\n",
        "zip_dataset.extractall('/tmp')\n",
        "zip_dataset.close()\n"
      ],
      "execution_count": null,
      "outputs": []
    },
    {
      "cell_type": "code",
      "metadata": {
        "id": "lCbSo6JEPArk"
      },
      "source": [
        "# make dir for splitting dataset\n",
        "home_dir = '/tmp/food_11_dataset'\n",
        "train_dir = os.path.join(home_dir, 'train')\n",
        "valid_dir = os.path.join(home_dir, 'valid')\n",
        "\n",
        "bread_dir = os.path.join(home_dir,'Bread')\n",
        "dairy_dir = os.path.join(home_dir,'Dairy product')\n",
        "dessert_dir = os.path.join(home_dir,'Dessert')\n",
        "egg_dir = os.path.join(home_dir, 'Egg')\n",
        "fried_dir = os.path.join(home_dir, 'Fried food')\n",
        "meat_dir = os.path.join(home_dir, 'Meat')\n",
        "noodles_dir = os.path.join(home_dir, 'Noodles-Pasta')\n",
        "rice_dir = os.path.join(home_dir, 'Rice')\n",
        "seafood_dir = os.path.join(home_dir, 'Seafood')\n",
        "soup_dir = os.path.join(home_dir, 'Soup')\n",
        "vegeta_dir = os.path.join(home_dir, 'Vegetable-Fruit')\n",
        "\n",
        "if not os.path.exists(train_dir):\n",
        "  os.mkdir(train_dir)\n",
        "if not os.path.exists(valid_dir):\n",
        "  os.mkdir(valid_dir)\n",
        "\n",
        "train_bread = os.path.join(train_dir,'Bread')\n",
        "train_dairy = os.path.join(train_dir,'Dairy product')\n",
        "train_dessert = os.path.join(train_dir,'Dessert')\n",
        "train_egg = os.path.join(train_dir, 'Egg')\n",
        "train_fried = os.path.join(train_dir, 'Fried food')\n",
        "train_meat = os.path.join(train_dir, 'Meat')\n",
        "train_noodles = os.path.join(train_dir, 'Noodles-Pasta')\n",
        "train_rice = os.path.join(train_dir, 'Rice')\n",
        "train_seafood = os.path.join(train_dir, 'Seafood')\n",
        "train_soup = os.path.join(train_dir, 'Soup')\n",
        "train_vegeta = os.path.join(train_dir, 'Vegetable-Fruit')\n",
        "\n",
        "valid_bread = os.path.join(valid_dir,'Bread')\n",
        "valid_dairy = os.path.join(valid_dir,'Dairy product')\n",
        "valid_dessert = os.path.join(valid_dir,'Dessert')\n",
        "valid_egg = os.path.join(valid_dir, 'Egg')\n",
        "valid_fried = os.path.join(valid_dir, 'Fried food')\n",
        "valid_meat = os.path.join(valid_dir, 'Meat')\n",
        "valid_noodles = os.path.join(valid_dir, 'Noodles-Pasta')\n",
        "valid_rice = os.path.join(valid_dir, 'Rice')\n",
        "valid_seafood = os.path.join(valid_dir, 'Seafood')\n",
        "valid_soup = os.path.join(valid_dir, 'Soup')\n",
        "valid_vegeta = os.path.join(valid_dir, 'Vegetable-Fruit')\n",
        "\n",
        "# membuat dan mengecek direktori train dan val tiap fitur\n",
        "if not os.path.exists(train_bread):\n",
        "  os.mkdir(train_bread)\n",
        "if not os.path.exists(train_dairy):\n",
        "  os.mkdir(train_dairy)\n",
        "if not os.path.exists(train_dessert):\n",
        "  os.mkdir(train_dessert)\n",
        "if not os.path.exists(train_egg):\n",
        "  os.mkdir(train_egg)\n",
        "if not os.path.exists(train_fried):\n",
        "  os.mkdir(train_fried)\n",
        "if not os.path.exists(train_meat):\n",
        "  os.mkdir(train_meat)\n",
        "if not os.path.exists(train_noodles):\n",
        "  os.mkdir(train_noodles)\n",
        "if not os.path.exists(train_rice):\n",
        "  os.mkdir(train_rice)\n",
        "if not os.path.exists(train_seafood):\n",
        "  os.mkdir(train_seafood)\n",
        "if not os.path.exists(train_soup):\n",
        "  os.mkdir(train_soup)\n",
        "if not os.path.exists(train_vegeta):\n",
        "  os.mkdir(train_vegeta)\n",
        "\n",
        "if not os.path.exists(valid_bread):\n",
        "  os.mkdir(valid_bread)\n",
        "if not os.path.exists(valid_dairy):\n",
        "  os.mkdir(valid_dairy)\n",
        "if not os.path.exists(valid_dessert):\n",
        "  os.mkdir(valid_dessert)\n",
        "if not os.path.exists(valid_egg):\n",
        "  os.mkdir(valid_egg)\n",
        "if not os.path.exists(valid_fried):\n",
        "  os.mkdir(valid_fried)\n",
        "if not os.path.exists(valid_meat):\n",
        "  os.mkdir(valid_meat)\n",
        "if not os.path.exists(valid_noodles):\n",
        "  os.mkdir(valid_noodles)\n",
        "if not os.path.exists(valid_rice):\n",
        "  os.mkdir(valid_rice)\n",
        "if not os.path.exists(valid_seafood):\n",
        "  os.mkdir(valid_seafood)\n",
        "if not os.path.exists(valid_soup):\n",
        "  os.mkdir(valid_soup)\n",
        "if not os.path.exists(valid_vegeta):\n",
        "  os.mkdir(valid_vegeta)"
      ],
      "execution_count": null,
      "outputs": []
    },
    {
      "cell_type": "code",
      "metadata": {
        "id": "WOHVr3uoBp8s"
      },
      "source": [
        "# splitting dataset to 20% test \n",
        "train_bread_dir, valid_bread_dir = train_test_split(os.listdir(bread_dir), test_size=0.2)\n",
        "train_dairy_dir, valid_dairy_dir = train_test_split(os.listdir(dairy_dir), test_size=0.2)\n",
        "train_dessert_dir, valid_dessert_dir = train_test_split(os.listdir(dessert_dir), test_size=0.2)\n",
        "train_egg_dir, valid_egg_dir = train_test_split(os.listdir(egg_dir), test_size=0.2)\n",
        "train_fried_dir, valid_fried_dir = train_test_split(os.listdir(fried_dir), test_size=0.2)\n",
        "train_meat_dir, valid_meat_dir = train_test_split(os.listdir(meat_dir), test_size=0.2)\n",
        "train_noodles_dir, valid_noodles_dir = train_test_split(os.listdir(noodles_dir), test_size=0.2)\n",
        "train_rice_dir, valid_rice_dir = train_test_split(os.listdir(rice_dir), test_size=0.2)\n",
        "train_seafood_dir, valid_seafood_dir = train_test_split(os.listdir(seafood_dir), test_size=0.2)\n",
        "train_soup_dir, valid_soup_dir = train_test_split(os.listdir(soup_dir), test_size=0.2)\n",
        "train_vegeta_dir, valid_vegeta_dir = train_test_split(os.listdir(vegeta_dir), test_size=0.2)"
      ],
      "execution_count": null,
      "outputs": []
    },
    {
      "cell_type": "code",
      "metadata": {
        "id": "ALL9UTJDErB3"
      },
      "source": [
        "# copy file to splitted dir\n",
        "for file in train_bread_dir:\n",
        "  shutil.copy(os.path.join(bread_dir, file), os.path.join(train_bread, file))\n",
        "for file in train_dairy_dir:\n",
        "  shutil.copy(os.path.join(dairy_dir, file), os.path.join(train_dairy, file))\n",
        "for file in train_dessert_dir:\n",
        "  shutil.copy(os.path.join(dessert_dir, file), os.path.join(train_dessert, file))\n",
        "for file in train_egg_dir:\n",
        "  shutil.copy(os.path.join(egg_dir, file), os.path.join(train_egg, file))\n",
        "for file in train_fried_dir:\n",
        "  shutil.copy(os.path.join(fried_dir, file), os.path.join(train_fried, file))\n",
        "for file in train_meat_dir:\n",
        "  shutil.copy(os.path.join(meat_dir, file), os.path.join(train_meat, file))\n",
        "for file in train_noodles_dir:\n",
        "  shutil.copy(os.path.join(noodles_dir, file), os.path.join(train_noodles, file))\n",
        "for file in train_rice_dir:\n",
        "  shutil.copy(os.path.join(rice_dir, file), os.path.join(train_rice, file))\n",
        "for file in train_seafood_dir:\n",
        "  shutil.copy(os.path.join(seafood_dir, file), os.path.join(train_seafood, file))\n",
        "for file in train_soup_dir:\n",
        "  shutil.copy(os.path.join(soup_dir, file), os.path.join(train_soup, file))\n",
        "for file in train_vegeta_dir:\n",
        "  shutil.copy(os.path.join(vegeta_dir, file), os.path.join(train_vegeta, file))\n",
        "\n",
        "\n",
        "for file in valid_bread_dir:\n",
        "  shutil.copy(os.path.join(bread_dir, file), os.path.join(valid_bread, file))\n",
        "for file in valid_dairy_dir:\n",
        "  shutil.copy(os.path.join(dairy_dir, file), os.path.join(valid_dairy, file))\n",
        "for file in valid_dessert_dir:\n",
        "  shutil.copy(os.path.join(dessert_dir, file), os.path.join(valid_dessert, file))\n",
        "for file in valid_egg_dir:\n",
        "  shutil.copy(os.path.join(egg_dir, file), os.path.join(valid_egg, file))\n",
        "for file in valid_fried_dir:\n",
        "  shutil.copy(os.path.join(fried_dir, file), os.path.join(valid_fried, file))\n",
        "for file in valid_meat_dir:\n",
        "  shutil.copy(os.path.join(meat_dir, file), os.path.join(valid_meat, file))\n",
        "for file in valid_noodles_dir:\n",
        "  shutil.copy(os.path.join(noodles_dir, file), os.path.join(valid_noodles, file))\n",
        "for file in valid_rice_dir:\n",
        "  shutil.copy(os.path.join(rice_dir, file), os.path.join(valid_rice, file))\n",
        "for file in valid_seafood_dir:\n",
        "  shutil.copy(os.path.join(seafood_dir, file), os.path.join(valid_seafood, file))\n",
        "for file in valid_soup_dir:\n",
        "  shutil.copy(os.path.join(soup_dir, file), os.path.join(valid_soup, file))\n",
        "for file in valid_vegeta_dir:\n",
        "  shutil.copy(os.path.join(vegeta_dir, file), os.path.join(valid_vegeta, file))"
      ],
      "execution_count": null,
      "outputs": []
    },
    {
      "cell_type": "code",
      "metadata": {
        "id": "E1GSXZwZiIiE",
        "colab": {
          "base_uri": "https://localhost:8080/"
        },
        "outputId": "20e5602a-1b7c-4ed0-b087-2b4fb23b447d"
      },
      "source": [
        "# using imagedatagenerator\n",
        "\n",
        "train_datagen = ImageDataGenerator(\n",
        "                    rescale=1./255,\n",
        "                    rotation_range=20,\n",
        "                    vertical_flip=False,\n",
        "                    horizontal_flip=True,\n",
        "                    shear_range=0.2,\n",
        "                    fill_mode='wrap')\n",
        "\n",
        "test_datagen = ImageDataGenerator(\n",
        "                    rescale=1./255,\n",
        "                    rotation_range=20,\n",
        "                    horizontal_flip=True,\n",
        "                    vertical_flip=False,\n",
        "                    shear_range=0.2,\n",
        "                    fill_mode='wrap')\n",
        "\n",
        "train_generator = train_datagen.flow_from_directory(\n",
        "                    train_dir,\n",
        "                    target_size=(150, 150),\n",
        "                    batch_size=32,\n",
        "                    class_mode='categorical')\n",
        "\n",
        "valid_generator = test_datagen.flow_from_directory(\n",
        "                    valid_dir,\n",
        "                    target_size=(150, 150),\n",
        "                    batch_size=32,\n",
        "                    class_mode='categorical')"
      ],
      "execution_count": null,
      "outputs": [
        {
          "output_type": "stream",
          "text": [
            "Found 9606 images belonging to 11 classes.\n",
            "Found 3606 images belonging to 11 classes.\n"
          ],
          "name": "stdout"
        }
      ]
    },
    {
      "cell_type": "code",
      "metadata": {
        "id": "3zl0pZCs3JsN"
      },
      "source": [
        "# menggunakan sequential\n",
        "\n",
        "ml_model = tf.keras.models.Sequential([\n",
        "    tf.keras.layers.Conv2D(32, (3,3), activation='relu', input_shape=(150, 150, 3)),\n",
        "    tf.keras.layers.MaxPooling2D(2, 2),\n",
        "    tf.keras.layers.Conv2D(64, (3,3), activation='relu'),\n",
        "    tf.keras.layers.MaxPooling2D(2,2),\n",
        "    tf.keras.layers.Conv2D(128, (3,3), activation='relu'),\n",
        "    tf.keras.layers.MaxPooling2D(2,2),\n",
        "    tf.keras.layers.Conv2D(512, (3,3), activation='relu'),\n",
        "    tf.keras.layers.MaxPooling2D(2,2),\n",
        "    tf.keras.layers.Flatten(),\n",
        "    tf.keras.layers.Dense(128, activation='relu'),\n",
        "    tf.keras.layers.Dense(128, activation='relu'),\n",
        "    tf.keras.layers.Dense(11, activation='softmax')\n",
        "])"
      ],
      "execution_count": null,
      "outputs": []
    },
    {
      "cell_type": "code",
      "metadata": {
        "id": "p370Dp5J35eD"
      },
      "source": [
        " # menggunakan callbacks untuk atasi overfitting\n",
        "\n",
        "class myCallback(tf.keras.callbacks.Callback):\n",
        "  def on_epoch_end(self, epoch, logs={}):\n",
        "    if(logs.get('accuracy')>0.92):\n",
        "       print(\"\\n Akurasi > 92%, stop training!!!\")\n",
        "       self.model.stop_training=True\n",
        "\n",
        "callbacks = myCallback()"
      ],
      "execution_count": null,
      "outputs": []
    },
    {
      "cell_type": "code",
      "metadata": {
        "id": "aR0465TzCEbE",
        "colab": {
          "base_uri": "https://localhost:8080/"
        },
        "outputId": "997f7df5-3efd-44b9-b900-fb9e32bfc0e6"
      },
      "source": [
        "# compile\n",
        "\n",
        "ml_model.compile(loss='categorical_crossentropy',\n",
        "              optimizer=tf.optimizers.Adam(),#learning_rate=1.000e-02),\n",
        "              metrics=['accuracy'])\n",
        "\n",
        "history = ml_model.fit(\n",
        "    train_generator,\n",
        "    steps_per_epoch=250,\n",
        "    epochs=150,\n",
        "    validation_data=valid_generator,\n",
        "    validation_steps=62,\n",
        "    verbose=2,\n",
        "    callbacks=[callbacks]\n",
        "    )"
      ],
      "execution_count": null,
      "outputs": [
        {
          "output_type": "stream",
          "text": [
            "Epoch 1/150\n",
            "250/250 - 91s - loss: 2.1734 - accuracy: 0.2200 - val_loss: 1.9498 - val_accuracy: 0.3054\n",
            "Epoch 2/150\n",
            "250/250 - 82s - loss: 1.8851 - accuracy: 0.3459 - val_loss: 1.7812 - val_accuracy: 0.3916\n",
            "Epoch 3/150\n",
            "250/250 - 82s - loss: 1.7060 - accuracy: 0.4130 - val_loss: 1.6082 - val_accuracy: 0.4430\n",
            "Epoch 4/150\n",
            "250/250 - 82s - loss: 1.5857 - accuracy: 0.4509 - val_loss: 1.5274 - val_accuracy: 0.4773\n",
            "Epoch 5/150\n",
            "250/250 - 82s - loss: 1.4974 - accuracy: 0.4797 - val_loss: 1.3797 - val_accuracy: 0.5257\n",
            "Epoch 6/150\n",
            "250/250 - 81s - loss: 1.4013 - accuracy: 0.5127 - val_loss: 1.4561 - val_accuracy: 0.5005\n",
            "Epoch 7/150\n",
            "250/250 - 81s - loss: 1.3367 - accuracy: 0.5330 - val_loss: 1.2572 - val_accuracy: 0.5570\n",
            "Epoch 8/150\n",
            "250/250 - 82s - loss: 1.2625 - accuracy: 0.5576 - val_loss: 1.3278 - val_accuracy: 0.5388\n",
            "Epoch 9/150\n",
            "250/250 - 82s - loss: 1.1912 - accuracy: 0.5860 - val_loss: 1.1621 - val_accuracy: 0.5927\n",
            "Epoch 10/150\n",
            "250/250 - 83s - loss: 1.1481 - accuracy: 0.6007 - val_loss: 1.0782 - val_accuracy: 0.6381\n",
            "Epoch 11/150\n",
            "250/250 - 82s - loss: 1.0810 - accuracy: 0.6270 - val_loss: 1.1445 - val_accuracy: 0.6003\n",
            "Epoch 12/150\n",
            "250/250 - 82s - loss: 1.0424 - accuracy: 0.6411 - val_loss: 0.9586 - val_accuracy: 0.6633\n",
            "Epoch 13/150\n",
            "250/250 - 82s - loss: 1.0145 - accuracy: 0.6558 - val_loss: 0.9816 - val_accuracy: 0.6744\n",
            "Epoch 14/150\n",
            "250/250 - 82s - loss: 0.9537 - accuracy: 0.6718 - val_loss: 0.8670 - val_accuracy: 0.7077\n",
            "Epoch 15/150\n",
            "250/250 - 82s - loss: 0.8999 - accuracy: 0.6900 - val_loss: 0.9262 - val_accuracy: 0.6809\n",
            "Epoch 16/150\n",
            "250/250 - 82s - loss: 0.8669 - accuracy: 0.7048 - val_loss: 0.8598 - val_accuracy: 0.7006\n",
            "Epoch 17/150\n",
            "250/250 - 81s - loss: 0.8288 - accuracy: 0.7129 - val_loss: 0.8168 - val_accuracy: 0.7288\n",
            "Epoch 18/150\n",
            "250/250 - 82s - loss: 0.7835 - accuracy: 0.7356 - val_loss: 0.8106 - val_accuracy: 0.7303\n",
            "Epoch 19/150\n",
            "250/250 - 82s - loss: 0.7448 - accuracy: 0.7445 - val_loss: 0.7782 - val_accuracy: 0.7334\n",
            "Epoch 20/150\n",
            "250/250 - 81s - loss: 0.7132 - accuracy: 0.7553 - val_loss: 0.8113 - val_accuracy: 0.7268\n",
            "Epoch 21/150\n",
            "250/250 - 82s - loss: 0.6661 - accuracy: 0.7766 - val_loss: 0.6890 - val_accuracy: 0.7676\n",
            "Epoch 22/150\n",
            "250/250 - 82s - loss: 0.6390 - accuracy: 0.7790 - val_loss: 0.7429 - val_accuracy: 0.7505\n",
            "Epoch 23/150\n",
            "250/250 - 81s - loss: 0.5935 - accuracy: 0.7983 - val_loss: 0.6019 - val_accuracy: 0.8059\n",
            "Epoch 24/150\n",
            "250/250 - 82s - loss: 0.5594 - accuracy: 0.8093 - val_loss: 0.5539 - val_accuracy: 0.8185\n",
            "Epoch 25/150\n",
            "250/250 - 82s - loss: 0.5062 - accuracy: 0.8277 - val_loss: 0.5459 - val_accuracy: 0.8226\n",
            "Epoch 26/150\n",
            "250/250 - 83s - loss: 0.5192 - accuracy: 0.8221 - val_loss: 0.5370 - val_accuracy: 0.8332\n",
            "Epoch 27/150\n",
            "250/250 - 82s - loss: 0.5087 - accuracy: 0.8240 - val_loss: 0.5346 - val_accuracy: 0.8342\n",
            "Epoch 28/150\n",
            "250/250 - 82s - loss: 0.4795 - accuracy: 0.8352 - val_loss: 0.6381 - val_accuracy: 0.7918\n",
            "Epoch 29/150\n",
            "250/250 - 81s - loss: 0.4505 - accuracy: 0.8434 - val_loss: 0.5427 - val_accuracy: 0.8382\n",
            "Epoch 30/150\n",
            "250/250 - 83s - loss: 0.4258 - accuracy: 0.8573 - val_loss: 0.5418 - val_accuracy: 0.8286\n",
            "Epoch 31/150\n",
            "250/250 - 82s - loss: 0.4096 - accuracy: 0.8590 - val_loss: 0.4660 - val_accuracy: 0.8569\n",
            "Epoch 32/150\n",
            "250/250 - 82s - loss: 0.3745 - accuracy: 0.8703 - val_loss: 0.4662 - val_accuracy: 0.8558\n",
            "Epoch 33/150\n",
            "250/250 - 81s - loss: 0.3632 - accuracy: 0.8781 - val_loss: 0.4078 - val_accuracy: 0.8785\n",
            "Epoch 34/150\n",
            "250/250 - 82s - loss: 0.3669 - accuracy: 0.8736 - val_loss: 0.4680 - val_accuracy: 0.8548\n",
            "Epoch 35/150\n",
            "250/250 - 83s - loss: 0.3471 - accuracy: 0.8789 - val_loss: 0.4554 - val_accuracy: 0.8669\n",
            "Epoch 36/150\n",
            "250/250 - 82s - loss: 0.3315 - accuracy: 0.8855 - val_loss: 0.4050 - val_accuracy: 0.8770\n",
            "Epoch 37/150\n",
            "250/250 - 81s - loss: 0.3173 - accuracy: 0.8932 - val_loss: 0.5042 - val_accuracy: 0.8503\n",
            "Epoch 38/150\n",
            "250/250 - 82s - loss: 0.3163 - accuracy: 0.8913 - val_loss: 0.4179 - val_accuracy: 0.8821\n",
            "Epoch 39/150\n",
            "250/250 - 82s - loss: 0.3023 - accuracy: 0.8974 - val_loss: 0.4089 - val_accuracy: 0.8760\n",
            "Epoch 40/150\n",
            "250/250 - 83s - loss: 0.2717 - accuracy: 0.9049 - val_loss: 0.4329 - val_accuracy: 0.8901\n",
            "Epoch 41/150\n",
            "250/250 - 81s - loss: 0.2950 - accuracy: 0.8986 - val_loss: 0.3850 - val_accuracy: 0.8916\n",
            "Epoch 42/150\n",
            "250/250 - 82s - loss: 0.2763 - accuracy: 0.9029 - val_loss: 0.4855 - val_accuracy: 0.8690\n",
            "Epoch 43/150\n",
            "250/250 - 82s - loss: 0.2678 - accuracy: 0.9123 - val_loss: 0.4447 - val_accuracy: 0.8911\n",
            "Epoch 44/150\n",
            "250/250 - 85s - loss: 0.2687 - accuracy: 0.9100 - val_loss: 0.5003 - val_accuracy: 0.8659\n",
            "Epoch 45/150\n",
            "250/250 - 83s - loss: 0.2405 - accuracy: 0.9180 - val_loss: 0.4783 - val_accuracy: 0.8745\n",
            "Epoch 46/150\n",
            "250/250 - 83s - loss: 0.2640 - accuracy: 0.9109 - val_loss: 0.4888 - val_accuracy: 0.8639\n",
            "Epoch 47/150\n",
            "250/250 - 82s - loss: 0.2228 - accuracy: 0.9230 - val_loss: 0.4006 - val_accuracy: 0.8916\n",
            "\n",
            " Akurasi > 92%, stop training!!!\n"
          ],
          "name": "stdout"
        }
      ]
    },
    {
      "cell_type": "code",
      "metadata": {
        "id": "nrv7RIOuHvaR",
        "colab": {
          "base_uri": "https://localhost:8080/"
        },
        "outputId": "77502ddf-b9f9-4764-9f9c-407f2a5d9519"
      },
      "source": [
        "# Plotting Accuaray metrics \n",
        "%matplotlib inline\n",
        "\n",
        "plt.figure(figsize=(10,6))\n",
        "plt.plot(history.history['accuracy'], 'g', label='Akurasi Data Training')\n",
        "plt.plot(history.history['val_accuracy'], 'b', label='Akurasi Data Validasi')\n",
        "plt.xlabel('Epoch')\n",
        "plt.ylabel('Accuracy')\n",
        "plt.title('Akurasi Data Training dan Validasi Training')\n",
        "plt.legend(loc='upper right')\n",
        "plt.show()"
      ],
      "execution_count": null,
      "outputs": [
        {
          "output_type": "display_data",
          "data": {
            "image/png": "[encoded data removed]",
            "text/plain": [
              "<Figure size 720x432 with 1 Axes>"
            ]
          },
          "metadata": {
            "tags": [],
            "needs_background": "light"
          }
        }
      ]
    },
    {
      "cell_type": "code",
      "metadata": {
        "id": "CxOzgOq3perv",
        "colab": {
          "base_uri": "https://localhost:8080/"
        },
        "outputId": "f0779955-e940-4ee6-f744-f0fe7e7fb336"
      },
      "source": [
        "# Plotting Loss metrics\n",
        "%matplotlib inline\n",
        "\n",
        "plt.figure(figsize=(10,6))\n",
        "plt.plot(history.history['loss'], 'g', label='Loss Data Training')\n",
        "plt.plot(history.history['val_loss'], 'b', label='Loss Data Validasi')\n",
        "plt.xlabel('Epoch')\n",
        "plt.ylabel('Loss')\n",
        "plt.title('Loss Data Training dan Validasi Training')\n",
        "plt.legend(loc='upper right')\n",
        "plt.show()"
      ],
      "execution_count": null,
      "outputs": [
        {
          "output_type": "display_data",
          "data": {
            "image/png": "[encoded data removed]",
            "text/plain": [
              "<Figure size 720x432 with 1 Axes>"
            ]
          },
          "metadata": {
            "tags": [],
            "needs_background": "light"
          }
        }
      ]
    },
    {
      "cell_type": "code",
      "metadata": {
        "id": "gnVmuD1YalCr",
        "colab": {
          "base_uri": "https://localhost:8080/"
        },
        "outputId": "64af64c3-010c-45e1-e550-015cd88275c7"
      },
      "source": [
        "# Comvert to TF-Lite\n",
        "\n",
        "converter = tf.lite.TFLiteConverter.from_keras_model(ml_model)\n",
        "tflite_model = converter.convert()\n",
        "\n",
        "with tf.io.gfile.GFile('model.tflite', 'wb') as f:\n",
        "  f.write(tflite_model)"
      ],
      "execution_count": null,
      "outputs": [
        {
          "output_type": "stream",
          "text": [
            "INFO:tensorflow:Assets written to: /tmp/tmp74181w71/assets\n"
          ],
          "name": "stdout"
        }
      ]
    }
  ]
}