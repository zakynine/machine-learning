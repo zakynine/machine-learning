{
  "nbformat": 4,
  "nbformat_minor": 0,
  "metadata": {
    "colab": {
      "name": "submission-time-series-zaki.ipynb",
      "provenance": [],
      "authorship_tag": "ABX9TyMJ6yea6GGg0F/SDBjelVNg",
      "include_colab_link": true
    },
    "kernelspec": {
      "name": "python3",
      "display_name": "Python 3"
    },
    "language_info": {
      "name": "python"
    }
  },
  "cells": [
    {
      "cell_type": "markdown",
      "metadata": {
        "id": "view-in-github",
        "colab_type": "text"
      },
      "source": [
        "<a href=\"https://colab.research.google.com/github/zakynine/machine-learning/blob/main/ML_time_series_zaki.ipynb\" target=\"_parent\"><img src=\"https://colab.research.google.com/assets/colab-badge.svg\" alt=\"Open In Colab\"/></a>"
      ]
    },
    {
      "cell_type": "code",
      "metadata": {
        "id": "XHJ3ZF_Z-WU6"
      },
      "source": [
        "# deklarasi library \n",
        "from pandas import read_csv\n",
        "from datetime import datetime\n",
        "from matplotlib import pyplot\n",
        "from pandas import DataFrame\n",
        "from pandas import concat\n",
        "from sklearn.preprocessing import LabelEncoder\n",
        "from sklearn.preprocessing import MinMaxScaler\n",
        "from keras.models import Sequential\n",
        "from keras.layers import Dense\n",
        "from keras.layers import LSTM\n",
        "import tensorflow as tf\n",
        "import matplotlib.pyplot as plt"
      ],
      "execution_count": null,
      "outputs": []
    },
    {
      "cell_type": "code",
      "metadata": {
        "colab": {
          "base_uri": "https://localhost:8080/"
        },
        "id": "icodzwki71Yt",
        "outputId": "5efd0582-6581-42f6-a238-0e5b0f0651b8"
      },
      "source": [
        "# load data\n",
        "def parse(x):\n",
        "\treturn datetime.strptime(x, '%Y %m %d %H')\n",
        "dataset = read_csv('raw.csv',  parse_dates = [['year', 'month', 'day', 'hour']], index_col=0, date_parser=parse)\n",
        "dataset.drop('No', axis=1, inplace=True)\n",
        "# manually specify column names\n",
        "dataset.columns = ['pollution', 'dew', 'temp', 'press', 'wnd_dir', 'wnd_spd', 'snow', 'rain']\n",
        "dataset.index.name = 'date'\n",
        "# mark all NA values with 0\n",
        "dataset['pollution'].fillna(0, inplace=True)\n",
        "# drop the first 24 hours\n",
        "#dataset = dataset[24:]\n",
        "# summarize first 5 rows\n",
        "print(dataset.head(5))\n",
        "# save to file\n",
        "dataset.to_csv('pollution.csv')"
      ],
      "execution_count": null,
      "outputs": [
        {
          "output_type": "stream",
          "text": [
            "                     pollution  dew  temp   press wnd_dir  wnd_spd  snow  rain\n",
            "date                                                                          \n",
            "2010-01-01 00:00:00        0.0  -21 -11.0  1021.0      NW     1.79     0     0\n",
            "2010-01-01 01:00:00        0.0  -21 -12.0  1020.0      NW     4.92     0     0\n",
            "2010-01-01 02:00:00        0.0  -21 -11.0  1019.0      NW     6.71     0     0\n",
            "2010-01-01 03:00:00        0.0  -21 -14.0  1019.0      NW     9.84     0     0\n",
            "2010-01-01 04:00:00        0.0  -20 -12.0  1018.0      NW    12.97     0     0\n"
          ],
          "name": "stdout"
        }
      ]
    },
    {
      "cell_type": "code",
      "metadata": {
        "colab": {
          "base_uri": "https://localhost:8080/"
        },
        "id": "sUqvdUA__41B",
        "outputId": "d31a22c0-f5da-4183-ac1a-0f932533ca8a"
      },
      "source": [
        "dataset = dataset.drop(columns=['pollution',\n",
        "                                'dew',\n",
        "                                'press',\n",
        "                                'wnd_dir',\n",
        "                                'wnd_spd',\n",
        "                                'snow',\n",
        "                                'rain',])\n",
        "dataset.info()"
      ],
      "execution_count": null,
      "outputs": [
        {
          "output_type": "stream",
          "text": [
            "<class 'pandas.core.frame.DataFrame'>\n",
            "DatetimeIndex: 43824 entries, 2010-01-01 00:00:00 to 2014-12-31 23:00:00\n",
            "Data columns (total 1 columns):\n",
            " #   Column  Non-Null Count  Dtype  \n",
            "---  ------  --------------  -----  \n",
            " 0   temp    43824 non-null  float64\n",
            "dtypes: float64(1)\n",
            "memory usage: 684.8 KB\n"
          ],
          "name": "stdout"
        }
      ]
    },
    {
      "cell_type": "code",
      "metadata": {
        "colab": {
          "base_uri": "https://localhost:8080/",
          "height": 238
        },
        "id": "r-ruRSnNAcoo",
        "outputId": "6f525228-f238-4bf3-f25a-9afad6b02549"
      },
      "source": [
        "dataset.head()"
      ],
      "execution_count": null,
      "outputs": [
        {
          "output_type": "execute_result",
          "data": {
            "text/html": [
              "<div>\n",
              "<style scoped>\n",
              "    .dataframe tbody tr th:only-of-type {\n",
              "        vertical-align: middle;\n",
              "    }\n",
              "\n",
              "    .dataframe tbody tr th {\n",
              "        vertical-align: top;\n",
              "    }\n",
              "\n",
              "    .dataframe thead th {\n",
              "        text-align: right;\n",
              "    }\n",
              "</style>\n",
              "<table border=\"1\" class=\"dataframe\">\n",
              "  <thead>\n",
              "    <tr style=\"text-align: right;\">\n",
              "      <th></th>\n",
              "      <th>temp</th>\n",
              "    </tr>\n",
              "    <tr>\n",
              "      <th>date</th>\n",
              "      <th></th>\n",
              "    </tr>\n",
              "  </thead>\n",
              "  <tbody>\n",
              "    <tr>\n",
              "      <th>2010-01-01 00:00:00</th>\n",
              "      <td>-11.0</td>\n",
              "    </tr>\n",
              "    <tr>\n",
              "      <th>2010-01-01 01:00:00</th>\n",
              "      <td>-12.0</td>\n",
              "    </tr>\n",
              "    <tr>\n",
              "      <th>2010-01-01 02:00:00</th>\n",
              "      <td>-11.0</td>\n",
              "    </tr>\n",
              "    <tr>\n",
              "      <th>2010-01-01 03:00:00</th>\n",
              "      <td>-14.0</td>\n",
              "    </tr>\n",
              "    <tr>\n",
              "      <th>2010-01-01 04:00:00</th>\n",
              "      <td>-12.0</td>\n",
              "    </tr>\n",
              "  </tbody>\n",
              "</table>\n",
              "</div>"
            ],
            "text/plain": [
              "                     temp\n",
              "date                     \n",
              "2010-01-01 00:00:00 -11.0\n",
              "2010-01-01 01:00:00 -12.0\n",
              "2010-01-01 02:00:00 -11.0\n",
              "2010-01-01 03:00:00 -14.0\n",
              "2010-01-01 04:00:00 -12.0"
            ]
          },
          "metadata": {
            "tags": []
          },
          "execution_count": 6
        }
      ]
    },
    {
      "cell_type": "code",
      "metadata": {
        "colab": {
          "base_uri": "https://localhost:8080/",
          "height": 265
        },
        "id": "AZI8gL5L8B8w",
        "outputId": "25c9e7ae-0106-44f1-beac-122117734daf"
      },
      "source": [
        "values = dataset.values\n",
        "# specify columns to plot\n",
        "pyplot.figure()\n",
        "pyplot.plot(values)\n",
        "pyplot.title('temp', y=0.5, loc='right')\n",
        "pyplot.show()"
      ],
      "execution_count": null,
      "outputs": [
        {
          "output_type": "display_data",
          "data": {
            "image/png": "[encoded data removed]",
            "text/plain": [
              "<Figure size 432x288 with 1 Axes>"
            ]
          },
          "metadata": {
            "tags": [],
            "needs_background": "light"
          }
        }
      ]
    },
    {
      "cell_type": "code",
      "metadata": {
        "colab": {
          "base_uri": "https://localhost:8080/"
        },
        "id": "q8a7uYWc8OBZ",
        "outputId": "c0db131f-72d0-4bf4-af61-e872096e7174"
      },
      "source": [
        "# convert series to supervised learning\n",
        "def series_to_supervised(data, n_in=1, n_out=1, dropnan=True):\n",
        "\tn_vars = 1 if type(data) is list else data.shape[1]\n",
        "\tdf = DataFrame(data)\n",
        "\tcols, names = list(), list()\n",
        "\t# input sequence (t-n, ... t-1)\n",
        "\tfor i in range(n_in, 0, -1):\n",
        "\t\tcols.append(df.shift(i))\n",
        "\t\tnames += [('var%d(t-%d)' % (j+1, i)) for j in range(n_vars)]\n",
        "\t# forecast sequence (t, t+1, ... t+n)\n",
        "\tfor i in range(0, n_out):\n",
        "\t\tcols.append(df.shift(-i))\n",
        "\t\tif i == 0:\n",
        "\t\t\tnames += [('var%d(t)' % (j+1)) for j in range(n_vars)]\n",
        "\t\telse:\n",
        "\t\t\tnames += [('var%d(t+%d)' % (j+1, i)) for j in range(n_vars)]\n",
        "\t# put it all together\n",
        "\tagg = concat(cols, axis=1)\n",
        "\tagg.columns = names\n",
        "\t# drop rows with NaN values\n",
        "\tif dropnan:\n",
        "\t\tagg.dropna(inplace=True)\n",
        "\treturn agg\n",
        "\n",
        "# integer encode direction\n",
        "encoder = LabelEncoder()\n",
        "values = encoder.fit_transform(values)\n",
        "# ensure all data is float\n",
        "values = values.astype('float32')\n",
        "# normalize features\n",
        "scaler = MinMaxScaler(feature_range=(0, 1))\n",
        "values = values.reshape(-1, 1)\n",
        "scaled = scaler.fit_transform(values)\n",
        "# frame as supervised learning\n",
        "reframed = series_to_supervised(scaled, 1, 1)\n",
        "# drop columns we don't want to predict\n",
        "#reframed.drop(reframed.columns[[9,10,11,12,13,14,15]], axis=1, inplace=True)\n",
        "print(reframed.head())"
      ],
      "execution_count": null,
      "outputs": [
        {
          "output_type": "stream",
          "text": [
            "   var1(t-1)   var1(t)\n",
            "1   0.126984  0.111111\n",
            "2   0.111111  0.126984\n",
            "3   0.126984  0.079365\n",
            "4   0.079365  0.111111\n",
            "5   0.111111  0.142857\n"
          ],
          "name": "stdout"
        },
        {
          "output_type": "stream",
          "text": [
            "/usr/local/lib/python3.7/dist-packages/sklearn/preprocessing/_label.py:251: DataConversionWarning: A column-vector y was passed when a 1d array was expected. Please change the shape of y to (n_samples, ), for example using ravel().\n",
            "  y = column_or_1d(y, warn=True)\n"
          ],
          "name": "stderr"
        }
      ]
    },
    {
      "cell_type": "code",
      "metadata": {
        "colab": {
          "base_uri": "https://localhost:8080/"
        },
        "id": "YwoqxfsJC_lE",
        "outputId": "c0dd28a0-f6fe-4f55-be3b-38037154de38"
      },
      "source": [
        "reframed.info()"
      ],
      "execution_count": null,
      "outputs": [
        {
          "output_type": "stream",
          "text": [
            "<class 'pandas.core.frame.DataFrame'>\n",
            "Int64Index: 43823 entries, 1 to 43823\n",
            "Data columns (total 2 columns):\n",
            " #   Column     Non-Null Count  Dtype  \n",
            "---  ------     --------------  -----  \n",
            " 0   var1(t-1)  43823 non-null  float32\n",
            " 1   var1(t)    43823 non-null  float32\n",
            "dtypes: float32(2)\n",
            "memory usage: 684.7 KB\n"
          ],
          "name": "stdout"
        }
      ]
    },
    {
      "cell_type": "code",
      "metadata": {
        "colab": {
          "base_uri": "https://localhost:8080/"
        },
        "id": "qFsrmV-d8XGx",
        "outputId": "588e0edc-249f-4bd4-f6d8-fad9ade7e6b9"
      },
      "source": [
        "values = reframed.values\n",
        "# count 20% for test set (dataset rows total = 5 tahun x 24 jam)\n",
        "count_train = 365 * 96\n",
        "# split into train and test sets\n",
        "n_train_hours = count_train \n",
        "train = values[:n_train_hours, :]\n",
        "test = values[n_train_hours:, :]\n",
        "# split into input and outputs\n",
        "train_X, train_y = train[:, :-1], train[:, -1]\n",
        "test_X, test_y = test[:, :-1], test[:, -1]\n",
        "# reshape input to be 3D [samples, timesteps, features]\n",
        "train_X = train_X.reshape((train_X.shape[0], 1, train_X.shape[1]))\n",
        "test_X = test_X.reshape((test_X.shape[0], 1, test_X.shape[1]))\n",
        "print(train_X.shape, train_y.shape, test_X.shape, test_y.shape)"
      ],
      "execution_count": null,
      "outputs": [
        {
          "output_type": "stream",
          "text": [
            "(35040, 1, 1) (35040,) (8783, 1, 1) (8783,)\n"
          ],
          "name": "stdout"
        }
      ]
    },
    {
      "cell_type": "code",
      "metadata": {
        "id": "XVXvgIu2JoDQ"
      },
      "source": [
        "#membuat class callback\n",
        "class myCallback(tf.keras.callbacks.Callback):\n",
        "  def on_epoch_end(self, epoch, logs={}):\n",
        "    if(logs.get('mae')<0.1):\n",
        "      print(\"\\nmae sudah tercapai dibawah 10%\")\n",
        "      self.model.stop_training = True\n",
        "callback = myCallback()"
      ],
      "execution_count": null,
      "outputs": []
    },
    {
      "cell_type": "code",
      "metadata": {
        "colab": {
          "base_uri": "https://localhost:8080/",
          "height": 443
        },
        "id": "jYLmE4p58m04",
        "outputId": "f88f202f-09f3-4087-870d-d6a53ee2df80"
      },
      "source": [
        "# design network\n",
        "model = Sequential()\n",
        "model.add(LSTM(50, input_shape=(train_X.shape[1], train_X.shape[2])))\n",
        "model.add(Dense(1))\n",
        "optimizer = tf.keras.optimizers.Adam(learning_rate=1.0000e-04)\n",
        "model.compile(loss='mae', \n",
        "              optimizer=optimizer,\n",
        "              metrics=['mae'])\n",
        "\n",
        "# fit network\n",
        "history = model.fit(train_X, \n",
        "                    train_y, \n",
        "                    epochs=150, \n",
        "                    batch_size=72, \n",
        "                    validation_data=(test_X, test_y), \n",
        "                    verbose=2, \n",
        "                    shuffle=False,\n",
        "                    callbacks=[callback])\n",
        "# plot history\n",
        "pyplot.plot(history.history['loss'], label='train')\n",
        "pyplot.plot(history.history['val_loss'], label='test')\n",
        "pyplot.legend()\n",
        "pyplot.show()"
      ],
      "execution_count": null,
      "outputs": [
        {
          "output_type": "stream",
          "text": [
            "Epoch 1/150\n",
            "487/487 - 4s - loss: 0.3857 - mae: 0.3857 - val_loss: 0.2572 - val_mae: 0.2572\n",
            "Epoch 2/150\n",
            "487/487 - 1s - loss: 0.1631 - mae: 0.1631 - val_loss: 0.1112 - val_mae: 0.1112\n",
            "Epoch 3/150\n",
            "487/487 - 1s - loss: 0.1114 - mae: 0.1114 - val_loss: 0.0911 - val_mae: 0.0911\n",
            "Epoch 4/150\n",
            "487/487 - 1s - loss: 0.0981 - mae: 0.0981 - val_loss: 0.0807 - val_mae: 0.0807\n",
            "\n",
            "mae sudah tercapai dibawah 10%\n"
          ],
          "name": "stdout"
        },
        {
          "output_type": "display_data",
          "data": {
            "image/png": "[encoded data removed]",
            "text/plain": [
              "<Figure size 432x288 with 1 Axes>"
            ]
          },
          "metadata": {
            "tags": [],
            "needs_background": "light"
          }
        }
      ]
    },
    {
      "cell_type": "code",
      "metadata": {
        "id": "nrv7RIOuHvaR",
        "colab": {
          "base_uri": "https://localhost:8080/",
          "height": 404
        },
        "outputId": "a365b2b2-2647-431f-9feb-45721403f87b"
      },
      "source": [
        "#melakukan plot grafik mae\n",
        "%matplotlib inline\n",
        "\n",
        "plt.figure(figsize=(10,6))\n",
        "plt.plot(history.history['mae'], 'g', label='mae train')\n",
        "plt.plot(history.history['val_mae'], 'b', label='mae val')\n",
        "plt.xlabel('Epoch')\n",
        "plt.ylabel('Mae')\n",
        "plt.title('Mae Data Training & Validasi Training')\n",
        "plt.legend(loc='upper right')\n",
        "plt.show()"
      ],
      "execution_count": null,
      "outputs": [
        {
          "output_type": "display_data",
          "data": {
            "image/png": "[encoded data removed]",
            "text/plain": [
              "<Figure size 720x432 with 1 Axes>"
            ]
          },
          "metadata": {
            "tags": [],
            "needs_background": "light"
          }
        }
      ]
    },
    {
      "cell_type": "code",
      "metadata": {
        "id": "pMaKMIUU8hqD"
      },
      "source": [
        ""
      ],
      "execution_count": null,
      "outputs": []
    },
    {
      "cell_type": "code",
      "metadata": {
        "colab": {
          "base_uri": "https://localhost:8080/",
          "height": 404
        },
        "id": "CxOzgOq3perv",
        "outputId": "3b8d5075-4e51-41d7-eeeb-706c6fd422e5"
      },
      "source": [
        "#melakukan plot grafik loss\n",
        "%matplotlib inline\n",
        "\n",
        "plt.figure(figsize=(10,6))\n",
        "plt.plot(history.history['loss'], 'g', label='loss data train')\n",
        "plt.plot(history.history['val_loss'], 'b', label='loss data val')\n",
        "plt.xlabel('Epoch')\n",
        "plt.ylabel('Loss')\n",
        "plt.title('Loss Data Training & Validasi Training')\n",
        "plt.legend(loc='upper right')\n",
        "plt.show()"
      ],
      "execution_count": null,
      "outputs": [
        {
          "output_type": "display_data",
          "data": {
            "image/png": "[encoded data removed]",
            "text/plain": [
              "<Figure size 720x432 with 1 Axes>"
            ]
          },
          "metadata": {
            "tags": [],
            "needs_background": "light"
          }
        }
      ]
    }
  ]
}